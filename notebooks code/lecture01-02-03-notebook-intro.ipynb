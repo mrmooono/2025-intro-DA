{
  "cells": [
    {
      "cell_type": "markdown",
      "id": "91e17fbe",
      "metadata": {
        "id": "91e17fbe"
      },
      "source": [
        "# 교과목: 데이터분석입문 자료"
      ]
    },
    {
      "cell_type": "markdown",
      "id": "86d008b4",
      "metadata": {
        "id": "86d008b4"
      },
      "source": [
        "# 파이썬 점검"
      ]
    },
    {
      "cell_type": "code",
      "execution_count": null,
      "id": "4da50725",
      "metadata": {
        "id": "4da50725",
        "outputId": "3225dc83-0a2b-402f-f642-c2504075d763"
      },
      "outputs": [
        {
          "data": {
            "text/plain": [
              "'3.11.5 | packaged by Anaconda, Inc. | (main, Sep 11 2023, 13:26:23) [MSC v.1916 64 bit (AMD64)]'"
            ]
          },
          "execution_count": 1,
          "metadata": {},
          "output_type": "execute_result"
        }
      ],
      "source": [
        "import sys\n",
        "sys.version"
      ]
    },
    {
      "cell_type": "code",
      "execution_count": null,
      "id": "1ecee89a",
      "metadata": {
        "id": "1ecee89a",
        "outputId": "a9114f9a-f045-4de2-d8e9-2530e1bfc6fc"
      },
      "outputs": [
        {
          "data": {
            "text/plain": [
              "['C:\\\\ProgramData\\\\anaconda3-23-09',\n",
              " 'C:\\\\ProgramData\\\\anaconda3-23-09\\\\Lib\\\\site-packages']"
            ]
          },
          "execution_count": 2,
          "metadata": {},
          "output_type": "execute_result"
        }
      ],
      "source": [
        "import site\n",
        "site.getsitepackages()"
      ]
    },
    {
      "cell_type": "markdown",
      "id": "b6038a35",
      "metadata": {
        "id": "b6038a35"
      },
      "source": [
        "# 파이썬 기초"
      ]
    },
    {
      "cell_type": "markdown",
      "id": "e38478e3",
      "metadata": {
        "id": "e38478e3"
      },
      "source": [
        "## 기본 자료형"
      ]
    },
    {
      "cell_type": "code",
      "execution_count": null,
      "id": "505d8ecd",
      "metadata": {
        "id": "505d8ecd",
        "outputId": "1991b3c4-9774-45a5-e497-a380c442fef7"
      },
      "outputs": [
        {
          "data": {
            "text/plain": [
              "(int, float)"
            ]
          },
          "execution_count": 3,
          "metadata": {},
          "output_type": "execute_result"
        }
      ],
      "source": [
        "type(1), type(3.5)"
      ]
    },
    {
      "cell_type": "code",
      "execution_count": null,
      "id": "b1f17847",
      "metadata": {
        "id": "b1f17847",
        "outputId": "4964dc09-a1c0-4996-fe3f-3c1fd4912072"
      },
      "outputs": [
        {
          "data": {
            "text/plain": [
              "(str, bool)"
            ]
          },
          "execution_count": 4,
          "metadata": {},
          "output_type": "execute_result"
        }
      ],
      "source": [
        "type('py'), type(True)"
      ]
    },
    {
      "cell_type": "code",
      "execution_count": null,
      "id": "5de33499",
      "metadata": {
        "id": "5de33499",
        "outputId": "928d4286-f5c5-4895-868c-4ae5ba9b2e61"
      },
      "outputs": [
        {
          "data": {
            "text/plain": [
              "(list, tuple)"
            ]
          },
          "execution_count": 7,
          "metadata": {},
          "output_type": "execute_result"
        }
      ],
      "source": [
        "type([]), type((1, ))"
      ]
    },
    {
      "cell_type": "code",
      "execution_count": null,
      "id": "569fa448",
      "metadata": {
        "id": "569fa448",
        "outputId": "850bc162-fb66-4120-e444-fb2553158827"
      },
      "outputs": [
        {
          "data": {
            "text/plain": [
              "(dict, set)"
            ]
          },
          "execution_count": 6,
          "metadata": {},
          "output_type": "execute_result"
        }
      ],
      "source": [
        "type({1:1, 2:4}), type({1, 2, 3})"
      ]
    },
    {
      "cell_type": "markdown",
      "id": "c35e4b54",
      "metadata": {
        "id": "c35e4b54"
      },
      "source": [
        "## 연산자"
      ]
    },
    {
      "cell_type": "code",
      "execution_count": null,
      "id": "64b689f1",
      "metadata": {
        "id": "64b689f1",
        "outputId": "a3c40d0d-816a-4a73-87ac-fe9904870575"
      },
      "outputs": [
        {
          "data": {
            "text/plain": [
              "(7, 4, 15, 1.5, 1)"
            ]
          },
          "execution_count": 9,
          "metadata": {},
          "output_type": "execute_result"
        }
      ],
      "source": [
        "3 + 4, 10 - 6, 3 * 5, 3 / 2, 3 // 2"
      ]
    },
    {
      "cell_type": "code",
      "execution_count": null,
      "id": "b76ae4c9",
      "metadata": {
        "id": "b76ae4c9",
        "outputId": "3572c5ac-b054-41fe-8582-a6fd771e0f4f"
      },
      "outputs": [
        {
          "data": {
            "text/plain": [
              "(9, 1)"
            ]
          },
          "execution_count": 15,
          "metadata": {},
          "output_type": "execute_result"
        }
      ],
      "source": [
        "3 ** 2, 10 % 3"
      ]
    },
    {
      "cell_type": "code",
      "execution_count": null,
      "id": "c5c6ebdd",
      "metadata": {
        "id": "c5c6ebdd",
        "outputId": "19647e28-d827-430c-c16f-67ecbd9fc192"
      },
      "outputs": [
        {
          "data": {
            "text/plain": [
              "'python'"
            ]
          },
          "execution_count": 17,
          "metadata": {},
          "output_type": "execute_result"
        }
      ],
      "source": [
        "'py' + 'thon'"
      ]
    },
    {
      "cell_type": "code",
      "execution_count": null,
      "id": "62700f33",
      "metadata": {
        "id": "62700f33",
        "outputId": "0bcef1dc-da20-4695-fa76-2c43133b2d7a"
      },
      "outputs": [
        {
          "data": {
            "text/plain": [
              "'pypypy'"
            ]
          },
          "execution_count": 18,
          "metadata": {},
          "output_type": "execute_result"
        }
      ],
      "source": [
        "'py' * 3"
      ]
    },
    {
      "cell_type": "markdown",
      "id": "f3f62572",
      "metadata": {
        "id": "f3f62572"
      },
      "source": [
        "## 내장 함수"
      ]
    },
    {
      "cell_type": "code",
      "execution_count": null,
      "id": "bc6b2fa7",
      "metadata": {
        "id": "bc6b2fa7",
        "outputId": "53c94505-afdb-42b4-e560-16e90d422f4b"
      },
      "outputs": [
        {
          "data": {
            "text/plain": [
              "(3, 1)"
            ]
          },
          "execution_count": 13,
          "metadata": {},
          "output_type": "execute_result"
        }
      ],
      "source": [
        "divmod(10, 3)"
      ]
    },
    {
      "cell_type": "code",
      "execution_count": null,
      "id": "ea5577a3",
      "metadata": {
        "id": "ea5577a3",
        "outputId": "9ea018ca-94d6-443e-b4d8-a5e85ad1cf0a"
      },
      "outputs": [
        {
          "data": {
            "text/plain": [
              "33.56"
            ]
          },
          "execution_count": 14,
          "metadata": {},
          "output_type": "execute_result"
        }
      ],
      "source": [
        "int('30') + float('3.56')"
      ]
    },
    {
      "cell_type": "code",
      "execution_count": null,
      "id": "d008ff38",
      "metadata": {
        "id": "d008ff38",
        "outputId": "3bc0305b-2434-4b66-9515-eff4b7a33fb7"
      },
      "outputs": [
        {
          "data": {
            "text/plain": [
              "(10, False)"
            ]
          },
          "execution_count": 19,
          "metadata": {},
          "output_type": "execute_result"
        }
      ],
      "source": [
        "abs(-10), bool(0)"
      ]
    },
    {
      "cell_type": "code",
      "execution_count": null,
      "id": "970aed30",
      "metadata": {
        "id": "970aed30",
        "outputId": "96af8160-8e86-4c87-fd5c-597305a6675b"
      },
      "outputs": [
        {
          "data": {
            "text/plain": [
              "('Z', 97, 65)"
            ]
          },
          "execution_count": 20,
          "metadata": {},
          "output_type": "execute_result"
        }
      ],
      "source": [
        "chr(90), ord('a'), ord('A')"
      ]
    },
    {
      "cell_type": "code",
      "execution_count": null,
      "id": "8e6a9e96",
      "metadata": {
        "id": "8e6a9e96",
        "outputId": "df2f0b5c-28ed-4b4f-9fc1-33af4779adb4"
      },
      "outputs": [
        {
          "data": {
            "text/plain": [
              "23"
            ]
          },
          "execution_count": 21,
          "metadata": {},
          "output_type": "execute_result"
        }
      ],
      "source": [
        "eval('3 + 4 * 5')"
      ]
    },
    {
      "cell_type": "code",
      "execution_count": null,
      "id": "96afdbd2",
      "metadata": {
        "id": "96afdbd2",
        "outputId": "22244bf5-8720-4d20-933c-df519c983ac9"
      },
      "outputs": [
        {
          "data": {
            "text/plain": [
              "140730912603880"
            ]
          },
          "execution_count": 22,
          "metadata": {},
          "output_type": "execute_result"
        }
      ],
      "source": [
        "s = 'py'\n",
        "id(s)"
      ]
    },
    {
      "cell_type": "code",
      "execution_count": null,
      "id": "32016f1f",
      "metadata": {
        "id": "32016f1f",
        "outputId": "8353872b-af89-488c-cfd6-b724d07c93bb"
      },
      "outputs": [
        {
          "name": "stdout",
          "output_type": "stream",
          "text": [
            "나이는? 20\n"
          ]
        },
        {
          "data": {
            "text/plain": [
              "20"
            ]
          },
          "execution_count": 24,
          "metadata": {},
          "output_type": "execute_result"
        }
      ],
      "source": [
        "data = input('나이는? ')\n",
        "data = int(data)\n",
        "data"
      ]
    },
    {
      "cell_type": "code",
      "execution_count": null,
      "id": "e7edd30e",
      "metadata": {
        "id": "e7edd30e"
      },
      "outputs": [],
      "source": []
    }
  ],
  "metadata": {
    "kernelspec": {
      "display_name": "Python 3 (ipykernel)",
      "language": "python",
      "name": "python3"
    },
    "language_info": {
      "codemirror_mode": {
        "name": "ipython",
        "version": 3
      },
      "file_extension": ".py",
      "mimetype": "text/x-python",
      "name": "python",
      "nbconvert_exporter": "python",
      "pygments_lexer": "ipython3",
      "version": "3.11.5"
    },
    "colab": {
      "provenance": []
    }
  },
  "nbformat": 4,
  "nbformat_minor": 5
}